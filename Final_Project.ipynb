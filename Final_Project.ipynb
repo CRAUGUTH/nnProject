{
  "nbformat": 4,
  "nbformat_minor": 0,
  "metadata": {
    "colab": {
      "provenance": [],
      "mount_file_id": "19C115YOikRXYQDQWR5GP1cXfjArWMqmN",
      "authorship_tag": "ABX9TyOPTA2JuYASRpw1LaH4Lxcv",
      "include_colab_link": true
    },
    "kernelspec": {
      "name": "python3",
      "display_name": "Python 3"
    },
    "language_info": {
      "name": "python"
    }
  },
  "cells": [
    {
      "cell_type": "markdown",
      "metadata": {
        "id": "view-in-github",
        "colab_type": "text"
      },
      "source": [
        "<a href=\"https://colab.research.google.com/github/CRAUGUTH/nnProject/blob/main/Final_Project.ipynb\" target=\"_parent\"><img src=\"https://colab.research.google.com/assets/colab-badge.svg\" alt=\"Open In Colab\"/></a>"
      ]
    },
    {
      "cell_type": "markdown",
      "source": [
        "# **Training NN**\n"
      ],
      "metadata": {
        "id": "e55DaojVMuVI"
      }
    },
    {
      "cell_type": "code",
      "source": [
        "!pip install --upgrade spotipy torch pandas scikit-learn transformers librosa joblib\n",
        "\n",
        "import spotipy\n",
        "from spotipy.oauth2 import SpotifyClientCredentials\n",
        "import torch\n",
        "import pandas as pd\n",
        "import torch.nn as nn\n",
        "import torch.optim as optim\n",
        "import numpy as np\n",
        "from torch.utils.data import Dataset, DataLoader, random_split\n",
        "from sklearn.preprocessing import StandardScaler, LabelEncoder\n",
        "import joblib\n",
        "from google.colab import drive"
      ],
      "metadata": {
        "id": "4PYu6ivkHzjj"
      },
      "execution_count": null,
      "outputs": []
    },
    {
      "cell_type": "code",
      "source": [
        "class MusicData(Dataset):\n",
        "    def __init__(self, path):\n",
        "        data = pd.read_csv(path)\n",
        "        data = data.drop(['track_id', 'artists', 'album_name', 'track_name', 'explicit'], axis=1)\n",
        "        self.label_encoder = LabelEncoder()\n",
        "        data['track_genre'] = self.label_encoder.fit_transform(data['track_genre'])\n",
        "        self.features = data.drop(['track_genre'], axis=1).values.astype(np.float32)\n",
        "        self.labels = data['track_genre'].values.astype(np.float32)\n",
        "        self.scaler = StandardScaler()\n",
        "        self.features = self.scaler.fit_transform(self.features)\n",
        "\n",
        "    def __len__(self):\n",
        "        return len(self.labels)\n",
        "\n",
        "    def __getitem__(self, idx):\n",
        "        x = self.features[idx]\n",
        "        y = self.labels[idx]\n",
        "        return x, y"
      ],
      "metadata": {
        "id": "dn3wNUImH1RX"
      },
      "execution_count": 86,
      "outputs": []
    },
    {
      "cell_type": "code",
      "source": [
        "class MLP(nn.Module):\n",
        "    def __init__(self, input_dim, hidden_dim, num_classes):\n",
        "        super(MLP, self).__init__()\n",
        "        self.layer1 = nn.Linear(input_dim, hidden_dim)\n",
        "        self.layer2 = nn.Linear(hidden_dim, hidden_dim // 2)\n",
        "        self.layer3 = nn.Linear(hidden_dim // 2, hidden_dim // 4)\n",
        "        self.layer4 = nn.Linear(hidden_dim // 4, num_classes)\n",
        "        self.relu = nn.ReLU()\n",
        "\n",
        "    def forward(self, x):\n",
        "        x = self.relu(self.layer1(x))\n",
        "        x = self.relu(self.layer2(x))\n",
        "        x = self.relu(self.layer3(x))\n",
        "        x = self.layer4(x)\n",
        "        return x"
      ],
      "metadata": {
        "id": "VAtGym4giwan"
      },
      "execution_count": 87,
      "outputs": []
    },
    {
      "cell_type": "code",
      "source": [
        "# Mount Google Drive\n",
        "drive.mount('/content/drive')\n",
        "data_path = '/content/drive/My Drive/Junior/Semester_2/NN/Project/dataset.csv'"
      ],
      "metadata": {
        "id": "r2mvleWfH94k",
        "colab": {
          "base_uri": "https://localhost:8080/"
        },
        "outputId": "cecfed5c-ef77-4cd9-f675-9fcc05f8df16"
      },
      "execution_count": 88,
      "outputs": [
        {
          "output_type": "stream",
          "name": "stdout",
          "text": [
            "Drive already mounted at /content/drive; to attempt to forcibly remount, call drive.mount(\"/content/drive\", force_remount=True).\n"
          ]
        }
      ]
    },
    {
      "cell_type": "code",
      "source": [
        "def evaluate(model, data_loader):\n",
        "    model.eval()\n",
        "    total = correct = 0\n",
        "    with torch.no_grad():\n",
        "        for inputs, labels in data_loader:\n",
        "            outputs = model(inputs)\n",
        "            _, predicted = torch.max(outputs.data, 1)\n",
        "            total += labels.size(0)\n",
        "            correct += (predicted == labels.long()).sum().item()\n",
        "    accuracy = 100 * correct / total\n",
        "    print(f'Accuracy: {accuracy}%')\n",
        "    return accuracy"
      ],
      "metadata": {
        "id": "HA7BG3h0iApZ"
      },
      "execution_count": 89,
      "outputs": []
    },
    {
      "cell_type": "code",
      "source": [
        "# Load dataset\n",
        "dataset = MusicData(data_path)\n",
        "save_path = \"best_model\"\n",
        "\n",
        "# Splitting the dataset\n",
        "total_size = len(dataset)\n",
        "train_set_size = int(total_size * 0.6)\n",
        "val_set_size = int(total_size * 0.2)\n",
        "test_set_size = total_size - train_set_size - val_set_size\n",
        "\n",
        "train_set, val_set, test_set = torch.utils.data.random_split(dataset, [train_set_size, val_set_size, test_set_size])\n",
        "\n",
        "train_loader = DataLoader(dataset=train_set, batch_size=64, shuffle=True)\n",
        "val_loader = DataLoader(dataset=val_set, batch_size=64, shuffle=False)\n",
        "test_loader = DataLoader(dataset=test_set, batch_size=64, shuffle=False)\n",
        "\n",
        "# Model, loss, and optimizer\n",
        "input_dim = dataset.features.shape[1]\n",
        "hidden_dim = 256  # Example hidden dimension\n",
        "num_classes = len(np.unique(dataset.labels))\n",
        "\n",
        "model = MLP(input_dim, hidden_dim, num_classes)\n",
        "criterion = nn.CrossEntropyLoss()\n",
        "optimizer = optim.Adam(model.parameters(), lr=0.001)"
      ],
      "metadata": {
        "id": "AZecpXpKjAFX"
      },
      "execution_count": 90,
      "outputs": []
    },
    {
      "cell_type": "code",
      "source": [
        "# Training loop\n",
        "num_epochs = 20\n",
        "for epoch in range(num_epochs):\n",
        "    model.train()\n",
        "    for inputs, labels in train_loader:\n",
        "        optimizer.zero_grad()\n",
        "        outputs = model(inputs)\n",
        "        loss = criterion(outputs, labels.long())\n",
        "        loss.backward()\n",
        "        optimizer.step()\n",
        "    print(f'Epoch {epoch+1}, Loss: {loss.item()}')\n",
        "\n",
        "    # Evaluate on validation set\n",
        "    evaluate(model, val_loader)"
      ],
      "metadata": {
        "colab": {
          "base_uri": "https://localhost:8080/"
        },
        "id": "BHjbL7unuA8B",
        "outputId": "56cc1346-7101-41c8-f287-d8f656ae7ab7"
      },
      "execution_count": 91,
      "outputs": [
        {
          "output_type": "stream",
          "name": "stdout",
          "text": [
            "Epoch 1, Loss: 1.6934605836868286\n",
            "Accuracy: 48.166666666666664%\n",
            "Epoch 2, Loss: 1.2743173837661743\n",
            "Accuracy: 58.29824561403509%\n",
            "Epoch 3, Loss: 1.6353559494018555\n",
            "Accuracy: 64.10526315789474%\n",
            "Epoch 4, Loss: 0.728980302810669\n",
            "Accuracy: 68.00877192982456%\n",
            "Epoch 5, Loss: 0.6280980110168457\n",
            "Accuracy: 70.61842105263158%\n",
            "Epoch 6, Loss: 0.6084839701652527\n",
            "Accuracy: 73.03070175438596%\n",
            "Epoch 7, Loss: 0.8116636276245117\n",
            "Accuracy: 73.34649122807018%\n",
            "Epoch 8, Loss: 0.554427981376648\n",
            "Accuracy: 74.39912280701755%\n",
            "Epoch 9, Loss: 0.5575842261314392\n",
            "Accuracy: 76.46491228070175%\n",
            "Epoch 10, Loss: 0.5749977231025696\n",
            "Accuracy: 77.00438596491227%\n",
            "Epoch 11, Loss: 0.491129994392395\n",
            "Accuracy: 76.19736842105263%\n",
            "Epoch 12, Loss: 0.41247034072875977\n",
            "Accuracy: 78.3201754385965%\n",
            "Epoch 13, Loss: 0.606252133846283\n",
            "Accuracy: 79.15789473684211%\n",
            "Epoch 14, Loss: 0.3050875663757324\n",
            "Accuracy: 78.94298245614036%\n",
            "Epoch 15, Loss: 0.3361106812953949\n",
            "Accuracy: 80.90350877192982%\n",
            "Epoch 16, Loss: 0.7164385318756104\n",
            "Accuracy: 81.74122807017544%\n",
            "Epoch 17, Loss: 0.3351990878582001\n",
            "Accuracy: 81.99561403508773%\n",
            "Epoch 18, Loss: 0.3733048141002655\n",
            "Accuracy: 79.84649122807018%\n",
            "Epoch 19, Loss: 0.645076334476471\n",
            "Accuracy: 81.67105263157895%\n",
            "Epoch 20, Loss: 0.46164050698280334\n",
            "Accuracy: 82.73245614035088%\n"
          ]
        }
      ]
    },
    {
      "cell_type": "code",
      "source": [
        "# Final evaluation on the test set\n",
        "print(\"Evaluating on the test set:\")\n",
        "evaluate(model, test_loader)"
      ],
      "metadata": {
        "id": "0g0xm6CvuSWm",
        "colab": {
          "base_uri": "https://localhost:8080/"
        },
        "outputId": "b43da163-c045-4ad5-b7fa-ec58ce533681"
      },
      "execution_count": 92,
      "outputs": [
        {
          "output_type": "stream",
          "name": "stdout",
          "text": [
            "Evaluating on the test set:\n",
            "Accuracy: 82.54824561403508%\n"
          ]
        },
        {
          "output_type": "execute_result",
          "data": {
            "text/plain": [
              "82.54824561403508"
            ]
          },
          "metadata": {},
          "execution_count": 92
        }
      ]
    },
    {
      "cell_type": "code",
      "source": [
        "# Save the model and preprocessors\n",
        "torch.save(model.state_dict(), 'song_mood_classifier.pth')\n",
        "joblib.dump(dataset.label_encoder, 'label_encoder.joblib')\n",
        "joblib.dump(dataset.scaler, 'scaler.joblib')"
      ],
      "metadata": {
        "colab": {
          "base_uri": "https://localhost:8080/"
        },
        "id": "HMZKelGlHSYO",
        "outputId": "2b9aafce-4333-4c49-81a9-1a67ce65f0b2"
      },
      "execution_count": 93,
      "outputs": [
        {
          "output_type": "execute_result",
          "data": {
            "text/plain": [
              "['scaler.joblib']"
            ]
          },
          "metadata": {},
          "execution_count": 93
        }
      ]
    }
  ]
}